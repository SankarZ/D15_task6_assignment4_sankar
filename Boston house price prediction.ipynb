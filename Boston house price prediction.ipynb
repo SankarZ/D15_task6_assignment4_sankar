{
 "cells": [
  {
   "cell_type": "code",
   "execution_count": 1,
   "metadata": {},
   "outputs": [],
   "source": [
    "import numpy as np\n",
    "import pandas as pd"
   ]
  },
  {
   "cell_type": "code",
   "execution_count": 2,
   "metadata": {},
   "outputs": [],
   "source": [
    "# Import phi from train data set\n",
    "phi = np.loadtxt('train.csv', dtype='float', delimiter=',', skiprows=1,\n",
    "                 usecols=tuple(range(1, 14)))\n",
    "\n",
    "# Import phi_test from test data set\n",
    "phi_test = np.loadtxt('test.csv', dtype='float', delimiter=',',\n",
    "                      skiprows=1, usecols=tuple(range(1, 14)))\n",
    "\n",
    "# Import y from train data set\n",
    "y = np.loadtxt('train.csv', dtype='float', delimiter=',', skiprows=1,\n",
    "               usecols=14, ndmin=2)"
   ]
  },
  {
   "cell_type": "code",
   "execution_count": 3,
   "metadata": {},
   "outputs": [
    {
     "name": "stdout",
     "output_type": "stream",
     "text": [
      "length of training dataset\n",
      "400\n",
      "length of testing dataset\n",
      "105\n"
     ]
    }
   ],
   "source": [
    "# Length of datasets\n",
    "print(\"length of training dataset\")\n",
    "phi_len=len(phi)\n",
    "print(phi_len)\n",
    "print(\"length of testing dataset\")\n",
    "phi_test_len=len(phi_test)\n",
    "print(phi_test_len)"
   ]
  },
  {
   "cell_type": "code",
   "execution_count": 4,
   "metadata": {},
   "outputs": [],
   "source": [
    "# Concatenate coloumn of 1s to right of phi and phi_test\n",
    "phi_test = np.concatenate((phi_test, np.ones((phi_test_len, 1))), axis=1)\n",
    "phi = np.concatenate((phi, np.ones((phi_len, 1))), axis=1)"
   ]
  },
  {
   "cell_type": "code",
   "execution_count": 5,
   "metadata": {},
   "outputs": [],
   "source": [
    "# min max scaling on each coloumn of phi and phi_test\n",
    "for i in range(0, 13):\n",
    "    each_col_max = max(phi[:, i])\n",
    "    each_col_min = min(phi[:, i])\n",
    "    phi[:, i] = (phi[:, i] - each_col_min) / (each_col_max - each_col_min)\n",
    "    phi_test[:, i] = (phi_test[:, i] - each_col_min) / (each_col_max - each_col_min)"
   ]
  },
  {
   "cell_type": "code",
   "execution_count": 6,
   "metadata": {},
   "outputs": [],
   "source": [
    "# Log scaling on y\n",
    "y = np.log(y)"
   ]
  },
  {
   "cell_type": "code",
   "execution_count": 7,
   "metadata": {},
   "outputs": [],
   "source": [
    "# calculation of change in error function\n",
    "def delta(p, phi, w):\n",
    "    if p == 2:\n",
    "        delta_item = (2 * (np.dot(np.dot(np.transpose(phi), phi), w) -\n",
    "                       np.dot(np.transpose(phi), y)) +\n",
    "                  lambda_value * p * np.power(np.absolute(w), (p - 1)))\n",
    "    if p < 2 and p > 1:\n",
    "        delta_item = (2 * (np.dot(np.dot(np.transpose(phi), phi), w) -\n",
    "                       np.dot(np.transpose(phi), y)) +\n",
    "                  lambda_value * p * np.power(np.absolute(w), (p - 1)) * np.sign(w))\n",
    "    return delta_item"
   ]
  },
  {
   "cell_type": "code",
   "execution_count": 8,
   "metadata": {},
   "outputs": [],
   "source": [
    "# Dictionary containing filenames as keys and p as values\n",
    "filenames = {'Dictionary_out.csv': 2.0,\n",
    "             'Dictionary_out_p1.csv': 1.75,\n",
    "             'Dictionary_out_p2.csv': 1.5,\n",
    "             'Dictionary_out_p3.csv': 1.3\n",
    "             }"
   ]
  },
  {
   "cell_type": "code",
   "execution_count": 9,
   "metadata": {},
   "outputs": [],
   "source": [
    "# Operation for each item in this dictionary\n",
    "for (f_item, p) in filenames.items():\n",
    "    \n",
    "    w = np.zeros((14, 1))  # Setting of initial w to zeros\n",
    "    lambda_value = 0.2            # Hyperparameter lambda value\n",
    "    t = 0.00012            # Maximum step size\n",
    "\n",
    "    # Calculation of  new value of w\n",
    "    w_new = w - t * delta(p, phi, w)\n",
    "\n",
    "    i = 0\n",
    "    \n",
    "    # Repeat steps until error between consecutive w is less than threshold\n",
    "    while(np.linalg.norm(w_new-w) > 10 ** -10):\n",
    "        w = w_new\n",
    "        w_new = w - t * delta(p, phi, w)\n",
    "        i = i + 1\n",
    "\n",
    "    # Load values of id\n",
    "    id_test = np.loadtxt('data/test.csv', dtype='int', delimiter=',',\n",
    "                         skiprows=1, usecols=0, ndmin=2)\n",
    "\n",
    "    # Calculate y for test data\n",
    "    y_test = np.exp(np.dot(phi_test, w_new))\n",
    "\n",
    "    # Save the ids and y\n",
    "    np.savetxt(f_item, np.concatenate((id_test, y_test), axis=1),\n",
    "               delimiter=',', fmt=['%d', '%f'], header='ID,MEDV', comments='')"
   ]
  },
  {
   "cell_type": "code",
   "execution_count": null,
   "metadata": {},
   "outputs": [],
   "source": []
  }
 ],
 "metadata": {
  "kernelspec": {
   "display_name": "Python 3",
   "language": "python",
   "name": "python3"
  },
  "language_info": {
   "codemirror_mode": {
    "name": "ipython",
    "version": 3
   },
   "file_extension": ".py",
   "mimetype": "text/x-python",
   "name": "python",
   "nbconvert_exporter": "python",
   "pygments_lexer": "ipython3",
   "version": "3.8.3"
  }
 },
 "nbformat": 4,
 "nbformat_minor": 4
}
